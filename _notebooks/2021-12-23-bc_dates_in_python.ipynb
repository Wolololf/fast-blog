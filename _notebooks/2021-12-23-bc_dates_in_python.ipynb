{
 "cells": [
  {
   "cell_type": "markdown",
   "id": "4e6103d9-cb30-46c8-9491-fa04691aa449",
   "metadata": {},
   "source": [
    "# \"BC dates in Python\"\n",
    "> \"Several approaches to expressing BC dates in Python\"\n",
    "\n",
    "- toc: false\n",
    "- branch: master\n",
    "- badges: false\n",
    "- comments: true\n",
    "- categories: [datascience, history, python]\n",
    "- image: images/placeholder.png\n",
    "- hide: false\n",
    "- search_exclude: false"
   ]
  },
  {
   "cell_type": "markdown",
   "id": "b263c187-c9e0-41e1-bd6d-7803e83c371e",
   "metadata": {},
   "source": [
    "## The problem\n",
    "A while ago, I was doing a small visualisation project on an ancient history topic, and as part of that, I needed to express dates and times around 400BC. Sounds simple enough, right? Python has a [datetime module](https://docs.python.org/3/library/datetime.html), just use that and we're golden.\n",
    "\n",
    "Well, not so fast. The [MINYEAR](https://docs.python.org/3/library/datetime.html#datetime.MINYEAR) is 1AD, so we can't express BC dates like that. We'll need a different solution.\n",
    "\n",
    "What are our requirements for a good solution? What functionality are we looking for?\n",
    "- Expressing BC as well as AD dates\n",
    "- Create from string and/or numeric parameters\n",
    "- Print time\n",
    "- Getters\n",
    "- Add/subtract time span and getting time deltas\n",
    "- Get time span delta\n",
    "- Lightweight enough to use in pandas"
   ]
  },
  {
   "cell_type": "code",
   "execution_count": 1,
   "id": "3912e9d4-6eef-41c7-8598-0784cb7533a1",
   "metadata": {},
   "outputs": [],
   "source": [
    "# Imports\n",
    "from datetime import datetime, timedelta"
   ]
  },
  {
   "cell_type": "markdown",
   "id": "2688959f-6ee1-46f8-ba8c-9ef08adc8b00",
   "metadata": {},
   "source": [
    "## 1. Data science libraries\n",
    "\n",
    "### Numpy - datetime64 + timedelta64\n",
    "Numpy's [`datetime64` and `timedelta64`](https://numpy.org/doc/stable/reference/arrays.datetime.html) extends Python's base `datetime`/`timedelta` from 32 to 64 bit and also adds some extra functionality."
   ]
  },
  {
   "cell_type": "code",
   "execution_count": 2,
   "id": "6f21bbeb-3823-4bcd-8838-457dad37164e",
   "metadata": {},
   "outputs": [],
   "source": [
    "import numpy as np"
   ]
  },
  {
   "cell_type": "markdown",
   "id": "e6e27093-5323-4158-bc71-64cbab79dc59",
   "metadata": {},
   "source": [
    "#### Numpy: Creating times BC/AD\n",
    "Both classes support a range of +/-2.9e11 years with a second precision which should be enough for most purposes."
   ]
  },
  {
   "cell_type": "code",
   "execution_count": 3,
   "id": "8a79d682-edab-41aa-b4e0-6bfa8bdae0c2",
   "metadata": {},
   "outputs": [
    {
     "name": "stdout",
     "output_type": "stream",
     "text": [
      "2020-01-02T03:04:05\n",
      "-400-01-02T03:04:05\n"
     ]
    }
   ],
   "source": [
    "# Example code for creating BC and AD times\n",
    "ad_date_np = np.datetime64(\"2020-01-02T03:04:05\")\n",
    "print(ad_date_np)\n",
    "\n",
    "bc_date_np = np.datetime64(\"-00400-01-02T03:04:05\")\n",
    "print(bc_date_np)"
   ]
  },
  {
   "cell_type": "markdown",
   "id": "0177ec7e-5557-4f2f-9a50-da4def845b71",
   "metadata": {},
   "source": [
    "#### Numpy: Getters\n",
    "Numpy doesn't provide extraction functions out of the box, but we can roll our own based on the string representation (inspired by [this stack overflow answer](https://stackoverflow.com/a/56260054))."
   ]
  },
  {
   "cell_type": "code",
   "execution_count": 4,
   "id": "c22698b3-32ed-4416-b263-bdbb6a6a8906",
   "metadata": {},
   "outputs": [],
   "source": [
    "def dt2cal(dt):\n",
    "    \"\"\"\n",
    "    Convert datetime64 to a calendar array of year, month, day, hour, minute, seconds, microsecond.\n",
    "\n",
    "    Parameters\n",
    "    ----------\n",
    "    dt : datetime64\n",
    "        datetime\n",
    "\n",
    "    Returns\n",
    "    -------\n",
    "    cal : int32 array (7)\n",
    "        calendar array representing year, month, day, hour, minute, second, microsecond\n",
    "    \"\"\"\n",
    "\n",
    "    # allocate output \n",
    "    out = np.empty(7, dtype=\"i4\")\n",
    "    \n",
    "    # decompose calendar floors\n",
    "    Y, M, D, h, m, s = [dt.astype(f\"M8[{x}]\") for x in \"YMDhms\"]\n",
    "    out[0] = Y.astype(int) + 1970 # Gregorian year\n",
    "    out[1] = (M - Y) + 1 # month\n",
    "    out[2] = (D - M).astype(int) + 1 # day\n",
    "    out[3] = (dt - D).astype(\"m8[h]\").astype(int) # hour\n",
    "    out[4] = (dt - h).astype(\"m8[m]\").astype(int) # minute\n",
    "    out[5] = (dt - m).astype(\"m8[s]\").astype(int) # second\n",
    "    out[6] = (dt - s).astype(\"m8[us]\").astype(int) # microsecond\n",
    "    \n",
    "    return out"
   ]
  },
  {
   "cell_type": "code",
   "execution_count": 5,
   "id": "3845124a-27b2-4d02-8eef-b1f61e4585a7",
   "metadata": {},
   "outputs": [
    {
     "data": {
      "text/plain": [
       "array([-400,    1,    2,    3,    4,    5,    0], dtype=int32)"
      ]
     },
     "execution_count": 5,
     "metadata": {},
     "output_type": "execute_result"
    }
   ],
   "source": [
    "cal = dt2cal(bc_date_np)\n",
    "cal"
   ]
  },
  {
   "cell_type": "code",
   "execution_count": 6,
   "id": "61983e02-eae5-4a10-a39c-500ef8a842c5",
   "metadata": {},
   "outputs": [],
   "source": [
    "def dt2calarray(dt):\n",
    "    \"\"\"\n",
    "    Convert array of datetime64 to a calendar array of year, month, day, hour,\n",
    "    minute, seconds, microsecond with these quantites indexed on the last axis.\n",
    "\n",
    "    Parameters\n",
    "    ----------\n",
    "    dt : datetime64 array (...)\n",
    "        numpy.ndarray of datetimes of arbitrary shape\n",
    "\n",
    "    Returns\n",
    "    -------\n",
    "    cal : uint32 array (..., 7)\n",
    "        calendar array with last axis representing year, month, day, hour,\n",
    "        minute, second, microsecond\n",
    "    \"\"\"\n",
    "\n",
    "    # allocate output \n",
    "    out = np.empty(dt.shape + (7,), dtype=\"i4\")\n",
    "    # decompose calendar floors\n",
    "    Y, M, D, h, m, s = [dt.astype(f\"M8[{x}]\") for x in \"YMDhms\"]\n",
    "    out[..., 0] = Y.astype(int) + 1970 # Gregorian year\n",
    "    out[..., 1] = (M - Y) + 1 # month\n",
    "    out[..., 2] = (D - M).astype(int) + 1 # dat\n",
    "    out[..., 3] = (dt - D).astype(\"m8[h]\").astype(int) # hour\n",
    "    out[..., 4] = (dt - h).astype(\"m8[m]\").astype(int) # minute\n",
    "    out[..., 5] = (dt - m).astype(\"m8[s]\").astype(int) # second\n",
    "    out[..., 6] = (dt - s).astype(\"m8[us]\").astype(int) # microsecond\n",
    "    return out"
   ]
  },
  {
   "cell_type": "code",
   "execution_count": 7,
   "id": "9d33463e-908e-40f2-93b8-873a64d7591f",
   "metadata": {},
   "outputs": [
    {
     "data": {
      "text/plain": [
       "array([[-400,    1,    2,    3,    4,    5,    0],\n",
       "       [2020,    1,    2,    3,    4,    5,    0]], dtype=int32)"
      ]
     },
     "execution_count": 7,
     "metadata": {},
     "output_type": "execute_result"
    }
   ],
   "source": [
    "dates_np = np.array([bc_date_np, ad_date_np], dtype='datetime64')\n",
    "cal_arr = dt2calarray(dates_np)\n",
    "cal_arr"
   ]
  },
  {
   "cell_type": "markdown",
   "id": "cbcc4f7f-2a65-42fa-b2ae-c7d799d0b933",
   "metadata": {},
   "source": [
    "### Numpy: Time spans\n",
    "`timedelta64` handles addition and subtraction as expected; the only thing worth calling out is the concept of time scale inherent in Numpy's time classes: To operate on two `timedelta64` objects, they both need to have the same time scale, i.e. both need to have the `[Y]`, `[d]`, etc format. You can easily convert these using `.astype(timedelta64[X])`.\n",
    "\n",
    "This also holds for printing: The first print in the code below prints as seconds, which isn't very useful, but you can cast it to a better time scale such as years for better readability. Similarly, you need to specify the time scale when creating a time delta from scratch."
   ]
  },
  {
   "cell_type": "code",
   "execution_count": 8,
   "id": "5bc63202-16f6-4908-8df7-55205a38a706",
   "metadata": {},
   "outputs": [
    {
     "name": "stdout",
     "output_type": "stream",
     "text": [
      "76367836800 seconds\n",
      "883887 days\n",
      "2420 years\n",
      "123 days\n",
      "76357209600 seconds\n",
      "2020-05-04T03:04:05\n"
     ]
    }
   ],
   "source": [
    "delta_np = ad_date_np - bc_date_np\n",
    "print(delta_np)\n",
    "print(delta_np.astype(\"timedelta64[D]\"))\n",
    "print(delta_np.astype(\"timedelta64[Y]\"))\n",
    "\n",
    "new_delta_np = np.timedelta64(123, 'D')\n",
    "print(new_delta_np)\n",
    "\n",
    "print(delta_np - new_delta_np)\n",
    "\n",
    "print(ad_date_np + new_delta_np)"
   ]
  },
  {
   "cell_type": "markdown",
   "id": "f6a93637-2a4e-4d43-98cd-4abb09e92a72",
   "metadata": {},
   "source": [
    "### Conclusion\n",
    "Numpy is a solid choice if all you need is to cover a large range of times. Creating and dealing with dates and time spans is fairly straightforward, and the objects are lean as can be. As we've seen, we can compensate for the lack of easy extraction functions with our own workarounds, but it's not as efficient as if it was supported natively, and is prone to breaking as the language evolves."
   ]
  },
  {
   "cell_type": "markdown",
   "id": "eccb77c7-699c-4d24-a682-5862072beb0b",
   "metadata": {},
   "source": [
    "### Pandas\n",
    "[Pandas](https://pandas.pydata.org/) is the standard framework many data scientists use when dealing with large amounts of data. Its [`to_datetime`](https://pandas.pydata.org/docs/reference/api/pandas.to_datetime.html) method is a great way to convert columns of dates from strings to Pandas [`Timestamps`](https://pandas.pydata.org/pandas-docs/stable/user_guide/timeseries.html#timestamps-vs-time-spans) which wrap Numpy's `datetime64`. "
   ]
  },
  {
   "cell_type": "code",
   "execution_count": 15,
   "id": "35e6da26-8f48-4a93-b8f5-4064001ae267",
   "metadata": {},
   "outputs": [],
   "source": [
    "#Imports\n",
    "import pandas as pd"
   ]
  },
  {
   "cell_type": "code",
   "execution_count": 29,
   "id": "5e872140-aaf3-4ebb-a23a-7f427c70f929",
   "metadata": {},
   "outputs": [
    {
     "data": {
      "text/html": [
       "<div>\n",
       "<style scoped>\n",
       "    .dataframe tbody tr th:only-of-type {\n",
       "        vertical-align: middle;\n",
       "    }\n",
       "\n",
       "    .dataframe tbody tr th {\n",
       "        vertical-align: top;\n",
       "    }\n",
       "\n",
       "    .dataframe thead th {\n",
       "        text-align: right;\n",
       "    }\n",
       "</style>\n",
       "<table border=\"1\" class=\"dataframe\">\n",
       "  <thead>\n",
       "    <tr style=\"text-align: right;\">\n",
       "      <th></th>\n",
       "      <th>date</th>\n",
       "      <th>value</th>\n",
       "    </tr>\n",
       "  </thead>\n",
       "  <tbody>\n",
       "    <tr>\n",
       "      <th>0</th>\n",
       "      <td>1970-02-01 03:04:05</td>\n",
       "      <td>2</td>\n",
       "    </tr>\n",
       "    <tr>\n",
       "      <th>1</th>\n",
       "      <td>2020-07-06 08:09:10</td>\n",
       "      <td>3</td>\n",
       "    </tr>\n",
       "  </tbody>\n",
       "</table>\n",
       "</div>"
      ],
      "text/plain": [
       "                 date  value\n",
       "0 1970-02-01 03:04:05      2\n",
       "1 2020-07-06 08:09:10      3"
      ]
     },
     "execution_count": 29,
     "metadata": {},
     "output_type": "execute_result"
    }
   ],
   "source": [
    "df = pd.DataFrame({'date': ['1970-1-2 03:04:05', '2020-6-7 08:09:10'],\n",
    "                   'value': [2, 3]})\n",
    "df['date'] = pd.to_datetime(df['date'], format=\"%Y-%d-%m %H:%M:%S\")\n",
    "df"
   ]
  },
  {
   "cell_type": "markdown",
   "id": "63311fb5-c32f-4648-9215-8261ce985bb0",
   "metadata": {},
   "source": [
    "#### Pandas: Creating times BC/AD\n",
    "Since Pandas internally uses `datetime64`, we should just be able to use `to_datetime` on both BC and AD dates and we're all good to go, right? Wrong. While Pandas does use 64 bits to represent time, it does so at a precision of nanoseconds which severly limits the available date range as discussed [here](https://pandas.pydata.org/pandas-docs/stable/user_guide/timeseries.html#timeseries-timestamp-limits)."
   ]
  },
  {
   "cell_type": "code",
   "execution_count": 42,
   "id": "509967fb-03e4-43ad-9df3-8276ccaaba37",
   "metadata": {},
   "outputs": [],
   "source": [
    "# This will result in an error:\n",
    "#date = pd.to_datetime('-400-01-02T03:04:05', format=\"%Y-%d-%m %H:%M:%S\")"
   ]
  },
  {
   "cell_type": "markdown",
   "id": "bb4a2050-dc0e-4d2e-b2d3-7abc8790064c",
   "metadata": {},
   "source": [
    "If you try to parse a value before 1677AD, you'll get this error:\n",
    "\n",
    "`ValueError: time data '-400-01-02T03:04:05' does not match format '%Y-%d-%m %H:%M:%S' (match)`.\n",
    "\n",
    "The error message is a bit misleading since the input format is just fine, the problem is that the date itself falls outside the supported range. So `to_datetime` is out.\n",
    "\n",
    "What if we populated our data frames directly with `datetime64`?"
   ]
  },
  {
   "cell_type": "code",
   "execution_count": 46,
   "id": "cc197aba-bb26-476a-b0d2-137e9a76296e",
   "metadata": {},
   "outputs": [
    {
     "data": {
      "text/html": [
       "<div>\n",
       "<style scoped>\n",
       "    .dataframe tbody tr th:only-of-type {\n",
       "        vertical-align: middle;\n",
       "    }\n",
       "\n",
       "    .dataframe tbody tr th {\n",
       "        vertical-align: top;\n",
       "    }\n",
       "\n",
       "    .dataframe thead th {\n",
       "        text-align: right;\n",
       "    }\n",
       "</style>\n",
       "<table border=\"1\" class=\"dataframe\">\n",
       "  <thead>\n",
       "    <tr style=\"text-align: right;\">\n",
       "      <th></th>\n",
       "      <th>date</th>\n",
       "      <th>value</th>\n",
       "    </tr>\n",
       "  </thead>\n",
       "  <tbody>\n",
       "    <tr>\n",
       "      <th>0</th>\n",
       "      <td>-400-01-02T03:04:05</td>\n",
       "      <td>2</td>\n",
       "    </tr>\n",
       "    <tr>\n",
       "      <th>1</th>\n",
       "      <td>2020-06-07T08:09:10</td>\n",
       "      <td>3</td>\n",
       "    </tr>\n",
       "  </tbody>\n",
       "</table>\n",
       "</div>"
      ],
      "text/plain": [
       "                  date  value\n",
       "0  -400-01-02T03:04:05      2\n",
       "1  2020-06-07T08:09:10      3"
      ]
     },
     "execution_count": 46,
     "metadata": {},
     "output_type": "execute_result"
    }
   ],
   "source": [
    "df = pd.DataFrame({'date': [np.datetime64('-400-01-02T03:04:05'), np.datetime64('2020-06-07T08:09:10')],\n",
    "                   'value': [2, 3]})\n",
    "df"
   ]
  },
  {
   "cell_type": "markdown",
   "id": "1a30c5a4-2cd8-4346-871e-1236a0ed35d0",
   "metadata": {},
   "source": [
    "This works beautifully! Looks like we can get our BC dates into Pandas data frames after all.\n",
    "\n",
    "So we can use `datetime64` directly, we just don't have the convenience of assembling `Timestamps` straight from string column(s). Here's a utility function that converts `datetime64`-compatible strings and puts them back into the column."
   ]
  },
  {
   "cell_type": "code",
   "execution_count": 79,
   "id": "dea9b873-7d85-4906-84aa-a42508d91af5",
   "metadata": {},
   "outputs": [],
   "source": [
    "def custom_to_datetime_from_date(df):\n",
    "    df['date'] = df.apply(lambda row: np.datetime64(row['date']), axis=1)\n",
    "    return df"
   ]
  },
  {
   "cell_type": "code",
   "execution_count": 80,
   "id": "79ced25e-a101-4294-b206-e385e09d057e",
   "metadata": {},
   "outputs": [
    {
     "name": "stdout",
     "output_type": "stream",
     "text": [
      "                  date  value\n",
      "0  -400-01-02T03:04:05      2\n",
      "1  2020-06-07T08:09:10      3\n"
     ]
    },
    {
     "data": {
      "text/html": [
       "<div>\n",
       "<style scoped>\n",
       "    .dataframe tbody tr th:only-of-type {\n",
       "        vertical-align: middle;\n",
       "    }\n",
       "\n",
       "    .dataframe tbody tr th {\n",
       "        vertical-align: top;\n",
       "    }\n",
       "\n",
       "    .dataframe thead th {\n",
       "        text-align: right;\n",
       "    }\n",
       "</style>\n",
       "<table border=\"1\" class=\"dataframe\">\n",
       "  <thead>\n",
       "    <tr style=\"text-align: right;\">\n",
       "      <th></th>\n",
       "      <th>date</th>\n",
       "      <th>value</th>\n",
       "    </tr>\n",
       "  </thead>\n",
       "  <tbody>\n",
       "    <tr>\n",
       "      <th>0</th>\n",
       "      <td>-400-01-02T03:04:05</td>\n",
       "      <td>2</td>\n",
       "    </tr>\n",
       "    <tr>\n",
       "      <th>1</th>\n",
       "      <td>2020-06-07T08:09:10</td>\n",
       "      <td>3</td>\n",
       "    </tr>\n",
       "  </tbody>\n",
       "</table>\n",
       "</div>"
      ],
      "text/plain": [
       "                  date  value\n",
       "0  -400-01-02T03:04:05      2\n",
       "1  2020-06-07T08:09:10      3"
      ]
     },
     "execution_count": 80,
     "metadata": {},
     "output_type": "execute_result"
    }
   ],
   "source": [
    "test_df = pd.DataFrame({'date': ['-400-01-02T03:04:05', '2020-06-07T08:09:10'],\n",
    "                   'value': [2, 3]})\n",
    "print(test_df)\n",
    "\n",
    "test_df = custom_to_datetime_from_date(test_df)\n",
    "test_df"
   ]
  },
  {
   "cell_type": "markdown",
   "id": "076e376c-e580-4460-b101-4f0b97adf948",
   "metadata": {},
   "source": [
    "Another great use of `to_datetime` is its ability to assemble `Timestamps` from multiple colums, e.g. `year`, `month`, etc. Here's what a workaround for this could look like:"
   ]
  },
  {
   "cell_type": "code",
   "execution_count": 84,
   "id": "85676ad1-0c09-4c57-ae9d-495da09969fb",
   "metadata": {},
   "outputs": [
    {
     "name": "stdout",
     "output_type": "stream",
     "text": [
      "  column_names date_args  offsets\n",
      "0        month         M        1\n",
      "1          day         D        1\n",
      "2         hour         h        0\n",
      "3       minute         m        0\n",
      "4       second         s        0\n",
      "5           ms        ms        0\n",
      "6           ns        ns        0\n"
     ]
    }
   ],
   "source": [
    "helper_df = pd.DataFrame({'column_names': ['month', 'day', 'hour', 'minute', 'second', 'ms', 'ns'],\n",
    "                          'date_args': ['M', 'D', 'h', 'm', 's', 'ms', 'ns'],\n",
    "                          'offsets': [1, 1, 0, 0, 0, 0, 0]})\n",
    "\n",
    "print(helper_df)\n",
    "\n",
    "def row_to_date_from_time_columns(row):\n",
    "    if not 'year' in row:\n",
    "        return None\n",
    "    \n",
    "    date = np.datetime64(row['year'], 'Y')\n",
    "    \n",
    "    for idx, r in helper_df.iterrows():\n",
    "        name = r['column_names']\n",
    "        if name in row:\n",
    "            arg = r['date_args']\n",
    "            date += np.timedelta64(row[name], arg)\n",
    "            \n",
    "            offset = r['offsets']\n",
    "            if offset != 0:\n",
    "                date -= np.timedelta64(offset, arg)\n",
    "    \n",
    "    return date\n",
    "\n",
    "def custom_to_datetime_from_time_columns(df, drop_source_columns=False):\n",
    "    df['date'] = df.apply(lambda row: row_to_date_from_time_columns(row), axis=1)\n",
    "    \n",
    "    if drop_source_columns:\n",
    "        df = df.drop(helper_df['column_names'], axis=1, errors='ignore')\n",
    "    \n",
    "    return df"
   ]
  },
  {
   "cell_type": "code",
   "execution_count": 85,
   "id": "80eb2595-cdfd-4b68-aa70-1fa52ecbc3d3",
   "metadata": {},
   "outputs": [
    {
     "name": "stdout",
     "output_type": "stream",
     "text": [
      "   year month day  value\n",
      "0  -400    01  03      2\n",
      "1  2020    02  04      3\n"
     ]
    },
    {
     "data": {
      "text/html": [
       "<div>\n",
       "<style scoped>\n",
       "    .dataframe tbody tr th:only-of-type {\n",
       "        vertical-align: middle;\n",
       "    }\n",
       "\n",
       "    .dataframe tbody tr th {\n",
       "        vertical-align: top;\n",
       "    }\n",
       "\n",
       "    .dataframe thead th {\n",
       "        text-align: right;\n",
       "    }\n",
       "</style>\n",
       "<table border=\"1\" class=\"dataframe\">\n",
       "  <thead>\n",
       "    <tr style=\"text-align: right;\">\n",
       "      <th></th>\n",
       "      <th>year</th>\n",
       "      <th>value</th>\n",
       "      <th>date</th>\n",
       "    </tr>\n",
       "  </thead>\n",
       "  <tbody>\n",
       "    <tr>\n",
       "      <th>0</th>\n",
       "      <td>-400</td>\n",
       "      <td>2</td>\n",
       "      <td>-400-01-03</td>\n",
       "    </tr>\n",
       "    <tr>\n",
       "      <th>1</th>\n",
       "      <td>2020</td>\n",
       "      <td>3</td>\n",
       "      <td>2020-02-04</td>\n",
       "    </tr>\n",
       "  </tbody>\n",
       "</table>\n",
       "</div>"
      ],
      "text/plain": [
       "   year  value        date\n",
       "0  -400      2  -400-01-03\n",
       "1  2020      3  2020-02-04"
      ]
     },
     "execution_count": 85,
     "metadata": {},
     "output_type": "execute_result"
    }
   ],
   "source": [
    "test_df = pd.DataFrame({'year': ['-400', '2020'],\n",
    "                        'month': ['01', '02'],\n",
    "                        'day': ['03', '04'],\n",
    "                        'value': [2, 3]})\n",
    "print(test_df)\n",
    "\n",
    "test_df = custom_to_datetime_from_time_columns(test_df, True)\n",
    "test_df"
   ]
  },
  {
   "cell_type": "markdown",
   "id": "2a7798a8-d83f-4f09-960a-abed9c62e9f5",
   "metadata": {},
   "source": [
    "For efficiency's sake, I've moved some of the arrays outside the function. You should further adjust this by removing the columns you don't need, but this should be a good starting point.\n",
    "\n",
    "And finally, a combined version that converts the `date` column if it exists, or assembles time-related columns if it doesn't:"
   ]
  },
  {
   "cell_type": "code",
   "execution_count": 83,
   "id": "4aa99f39-d022-4563-9b7d-9c9ea0428218",
   "metadata": {},
   "outputs": [],
   "source": [
    "helper_df = pd.DataFrame({'column_names': ['month', 'day', 'hour', 'minute', 'second', 'ms', 'ns'],\n",
    "                          'date_args': ['M', 'D', 'h', 'm', 's', 'ms', 'ns'],\n",
    "                          'offsets': [1, 1, 0, 0, 0, 0, 0]})\n",
    "\n",
    "def row_to_date(row):\n",
    "    if 'date' in row:\n",
    "        return np.datetime64(row['date'])\n",
    "    \n",
    "    if not 'year' in row:\n",
    "        return None\n",
    "    \n",
    "    date = np.datetime64(row['year'], 'Y')\n",
    "    \n",
    "    for idx, r in helper_df.iterrows():\n",
    "        name = r['column_names']\n",
    "        if name in row:\n",
    "            arg = r['date_args']\n",
    "            date += np.timedelta64(row[name], arg)\n",
    "            \n",
    "            offset = r['offsets']\n",
    "            if offset != 0:\n",
    "                date -= np.timedelta64(offset, arg)\n",
    "    \n",
    "    return date\n",
    "\n",
    "def custom_to_datetime(df, drop_source_columns=False):\n",
    "    df['date'] = df.apply(lambda row: row_to_date(row), axis=1)\n",
    "    \n",
    "    if drop_source_columns:\n",
    "        df = df.drop(helper_df['column_names'], axis=1, errors='ignore')\n",
    "    \n",
    "    return df"
   ]
  },
  {
   "cell_type": "markdown",
   "id": "6dccec09-c04f-41b9-a50b-75ed72cd21be",
   "metadata": {},
   "source": [
    "Great, so we've worked around that limitation in Pandas! However, this still doesn't solve the `Timestamp` limitation in `DatetimeIndex` and `PeriodIndex`.\n",
    "\n",
    "Since we can create columns of `datetime64` from strings now, maybe we can use the origin parameter of `datetime64` and turn them into dates based on the Julian calender? This would mean that we can get a `datetime64` with origin 4713BC that counts days from that date. Sounds like a good solution? Can we trick `Timestamp` into accepting a valid `datetime64` and have it not modify it?"
   ]
  },
  {
   "cell_type": "code",
   "execution_count": 112,
   "id": "65c39f50-e3af-438a-bb8a-6bff0f9c0405",
   "metadata": {},
   "outputs": [],
   "source": [
    "julian_origin = np.datetime64('-4713-01-01T12:00:00')\n",
    "test_input = np.datetime64('-400-01-02')\n",
    "\n",
    "# This will error out with:\n",
    "# OutOfBoundsDatetime: 1574925 is Out of Bounds for origin='julian'\n",
    "#pd.to_datetime((test_input - julian).astype('timedelta64[D]').astype(int), unit='D', origin='julian')"
   ]
  },
  {
   "cell_type": "markdown",
   "id": "21e58f3a-1ce4-4cbc-8f02-58684037b49b",
   "metadata": {},
   "source": [
    "Nope, doesn't work. There is simply no way to get `Timestamp` to extend its range, even if you pass in a Julian `datetime64`. Pandas takes that representation and converts it to `datetime64[ns]` which again only goes as far back as 1677AD.\n",
    "\n",
    "Pandas gives you false hope by stating that you can provide a different origin to `to_datetime` like this: `pd.to_datetime([1, 2, 3], unit=\"D\", origin=pd.Timestamp(\"1960-01-01\"))`. However, for that to work, the origin `Timestamp` needs to be valid in the first place. So we'd need to create a BC `Timestamp` to use as an origin point to get BC `Timestamps`, which we can't do because BC `Timestamps` aren't valid. Great. I guess we just can't use `DateTimeIndex`."
   ]
  },
  {
   "cell_type": "markdown",
   "id": "6f9d447d-208b-41d2-96d5-ae0a7b284f99",
   "metadata": {},
   "source": [
    "#### Pandas: Getters\n",
    "`Timestamp` and `DatetimeIndex` have a great selection of component getters (as described [here](https://pandas.pydata.org/pandas-docs/stable/user_guide/timeseries.html#time-date-components). Sadly, we can't use any of them since we can't use `Timestamp`/`DatetimeIndex`...\n",
    "\n",
    "The best we can do is use the getters defined [above](#numpy-getters) as a starting point and write per-component extractor utilities instead of returning the full array. I'll leave this as an exercise to the reader ;-)"
   ]
  },
  {
   "cell_type": "markdown",
   "id": "7ecaf70b-c9eb-4438-93b6-229d290f588d",
   "metadata": {},
   "source": [
    "### Pandas: Time spans\n",
    "One would think that if you have a working column of `datetime64` objects and try to apply `timedelta64` operations to the whole column, it would work. However, Pandas helpfully attempts to convert the column to `Timestamps` before applying the operation, which of course fails since our data is outside the `Timestamp` limits.\n",
    "Instead, we have to `apply` operations row-by-row, not using the column shorthand.\n",
    "\n",
    "(Again, note that type casts are required to make the `datetime64` in second-format compatible with the `timedelta64` which is in year-format due to its construction.)"
   ]
  },
  {
   "cell_type": "code",
   "execution_count": 120,
   "id": "b7dfd2c1-6468-4a4c-9e03-9528f1d0be5c",
   "metadata": {},
   "outputs": [
    {
     "data": {
      "text/html": [
       "<div>\n",
       "<style scoped>\n",
       "    .dataframe tbody tr th:only-of-type {\n",
       "        vertical-align: middle;\n",
       "    }\n",
       "\n",
       "    .dataframe tbody tr th {\n",
       "        vertical-align: top;\n",
       "    }\n",
       "\n",
       "    .dataframe thead th {\n",
       "        text-align: right;\n",
       "    }\n",
       "</style>\n",
       "<table border=\"1\" class=\"dataframe\">\n",
       "  <thead>\n",
       "    <tr style=\"text-align: right;\">\n",
       "      <th></th>\n",
       "      <th>date</th>\n",
       "      <th>value</th>\n",
       "    </tr>\n",
       "  </thead>\n",
       "  <tbody>\n",
       "    <tr>\n",
       "      <th>0</th>\n",
       "      <td>-500-01-01T21:04:05</td>\n",
       "      <td>2</td>\n",
       "    </tr>\n",
       "    <tr>\n",
       "      <th>1</th>\n",
       "      <td>1920-06-08T02:09:10</td>\n",
       "      <td>3</td>\n",
       "    </tr>\n",
       "  </tbody>\n",
       "</table>\n",
       "</div>"
      ],
      "text/plain": [
       "                  date  value\n",
       "0  -500-01-01T21:04:05      2\n",
       "1  1920-06-08T02:09:10      3"
      ]
     },
     "execution_count": 120,
     "metadata": {},
     "output_type": "execute_result"
    }
   ],
   "source": [
    "test_df = pd.DataFrame({'date': ['-400-01-02T03:04:05', '2020-06-07T08:09:10'],\n",
    "                   'value': [2, 3]})\n",
    "\n",
    "test_df = custom_to_datetime(test_df)\n",
    "\n",
    "sub_ts = np.timedelta64(100, 'Y')\n",
    "\n",
    "# Pandas will attempt to convert the date column into a Timestamp and crashes as a result\n",
    "#test_df['date'] -= sub_ts\n",
    "\n",
    "test_df['date'] = df.apply(lambda row: row['date'] - sub_ts.astype('m8[s]'), axis=1)\n",
    "\n",
    "test_df"
   ]
  },
  {
   "cell_type": "markdown",
   "id": "ad761607-04d4-4441-a500-6baaac3bd429",
   "metadata": {},
   "source": [
    "### Conclusion\n",
    "You can make Pandas work with Numpy's 64-bit time classes, it just needs some workarounds and a careful approach to keep Pandas from accidentally attempting an automatic conversion. Pandas usually adds a lot of utility to extend Numpy's time handling, but since they're all tied into range-limited classes, we can't use most of them.\n",
    "\n",
    "Some articles that discuss the advantages of Pandas' time handling can be found [here](https://jakevdp.github.io/PythonDataScienceHandbook/03.11-working-with-time-series.html) and [here](https://pandas.pydata.org/pandas-docs/stable/user_guide/timeseries.html), just so you know what you're missing out on."
   ]
  },
  {
   "cell_type": "markdown",
   "id": "1d22ccdb-b117-4753-80c9-9c3858bc1223",
   "metadata": {},
   "source": [
    "## 2. Scientific libraries\n",
    "It looks like there aren't a whole lot of historians using Python, but who know who else uses BC dates? Astronomers! There appears to be quite a selection of scientific libraries that deal with dates outside the default Python date range.\n",
    "\n",
    "### [Astropy](https://www.astropy.org/)\n",
    "Astropy's [Time](https://docs.astropy.org/en/stable/api/astropy.time.Time.html) module does the job. It supports a wide variety of time scales, formats and precision that are handy in general, plus some highly astronomy specific functionality such as `earth_rotation_angle` and `light_travel_time`. The [documentation](https://docs.astropy.org/en/stable/time/) does a good job explaining how to create and work with `Time`.\n",
    "\n",
    "This is an incredibly powerful library, and the documentation rocks. The `Time` object supports common operations such as creating, modifying and printing dates and time spans.\n",
    "\n",
    "One downside is that it has a lot of functionality you likely won't need, so it looks intimidating and confusing at first glance. While it looks like this added functionality would also bloat the object, this isn't a problem in practice. In addition to taking a string as input, `Time` also takes an `ndarray` of strings, and can be interacted with like an array. This means that effectively, you only need to define your time format and such once for the `Time` object, and the individual times can then be accessed by index."
   ]
  },
  {
   "cell_type": "code",
   "execution_count": 9,
   "id": "b4f9742e-5cad-4dfd-818a-3e597034d4e0",
   "metadata": {},
   "outputs": [],
   "source": [
    "#Imports\n",
    "from astropy.time import Time, TimeDelta"
   ]
  },
  {
   "cell_type": "markdown",
   "id": "0c96c63c-99a4-4193-b0d9-119e041dd720",
   "metadata": {},
   "source": [
    "#### Astropy: Creating times BC/AD\n",
    "One caveat is that we shouldn't use the standard [ISO/ISOT format](https://docs.astropy.org/en/stable/api/astropy.time.TimeISOT.html#astropy.time.TimeISOT), e.g. `2020-01-02T03:04:05`. The ISO format only works for AD dates! Instead, we should use the [FITS format](https://docs.astropy.org/en/stable/api/astropy.time.TimeFITS.html#astropy.time.TimeFITS), e.g. `-00400-01-02T03:04:05`. FITS is an extension to the ISO format that expands the year range to five digits, and supports BC dates. Be aware that for negative dates, you need to pad it out with leading zeroes, or you'll get a parsing exception!"
   ]
  },
  {
   "cell_type": "code",
   "execution_count": 11,
   "id": "420e0ea1-9f49-41db-945d-9ce21d8cec16",
   "metadata": {},
   "outputs": [
    {
     "name": "stdout",
     "output_type": "stream",
     "text": [
      "2020-01-01T01:23:45.000\n",
      "-00400-01-01T01:23:45.000\n",
      "['-00400-01-01T01:23:45.000' '+02020-01-01T01:23:45.000']\n",
      "-00400-01-01T01:23:45.000\n"
     ]
    }
   ],
   "source": [
    "# Example code for creating BC and AD times\n",
    "ad_date_astro = Time(\"2020-01-01T01:23:45\", format='fits', scale='utc')\n",
    "print(ad_date_astro)\n",
    "\n",
    "bc_date_astro = Time(\"-00400-01-01T01:23:45\", format='fits', scale='utc')\n",
    "print(bc_date_astro)\n",
    "\n",
    "dates_astro = Time([\"-00400-01-01T01:23:45\", \"2020-01-01T01:23:45\"], format='fits', scale='utc')\n",
    "print(dates_astro)\n",
    "print(dates_astro[0])"
   ]
  },
  {
   "cell_type": "markdown",
   "id": "e147f6a0-356f-4b3a-9d3b-9976d5fb402d",
   "metadata": {},
   "source": [
    "The above warning seems to be benign and from well within Astropy, nothing to do for us here.\n",
    "\n",
    "Side note: You can get your time data in a different format by using `.isot`, `.unix`. Note that you can print time in formats that wouldn't support parsing it!"
   ]
  },
  {
   "cell_type": "code",
   "execution_count": 12,
   "id": "372d20dd-947d-4ecc-b92a-35dc60458694",
   "metadata": {},
   "outputs": [
    {
     "name": "stdout",
     "output_type": "stream",
     "text": [
      "1577841825.0\n",
      "-00400-01-01T01:23:45.000\n",
      "-400-01-01T01:23:45.000\n"
     ]
    }
   ],
   "source": [
    "print(ad_date_astro.unix)\n",
    "print(bc_date_astro.fits)\n",
    "print(bc_date_astro.isot)\n",
    "\n",
    "# This line would fail with a ValueError: \"Input values did not match the format class isot\"\n",
    "#bc_date_2 = Time(bc_date.isot, format='isot', scale='utc')"
   ]
  },
  {
   "cell_type": "markdown",
   "id": "48b408cb-68b6-4c9e-883a-c03eca1eace6",
   "metadata": {},
   "source": [
    "#### Astropy: Getters\n",
    "The `Time` class doesn't have an easy way to extract common attributes such as year, month or seconds. It does, however, support `strftime` and provides an implementation based on Python's [`time.strftime`](https://docs.python.org/3/library/time.html#time.strftime). This means we can define our own utility functions to extract the relevant components and parse them into integers for later use.\n",
    "\n",
    "Sadly, this doesn't work for BC dates since `strftime` internally assumes dates in the `ISO` format for some reason."
   ]
  },
  {
   "cell_type": "code",
   "execution_count": 13,
   "id": "d62bc40c-638d-48c5-95fd-30807e2814db",
   "metadata": {},
   "outputs": [
    {
     "data": {
      "text/plain": [
       "2020"
      ]
     },
     "execution_count": 13,
     "metadata": {},
     "output_type": "execute_result"
    }
   ],
   "source": [
    "#Getters\n",
    "def extract_year(t):\n",
    "    return int(t.strftime('%Y'))\n",
    "\n",
    "extract_year(ad_date_astro)"
   ]
  },
  {
   "cell_type": "markdown",
   "id": "c7b09008-879d-4f93-8966-f252d3136b1f",
   "metadata": {},
   "source": [
    "There is always the option of writing our own function to extract time components from the source string, and I might revisit this section later on to do just that. We'd have to use the FITS representation and parse the date string ourselves which shouldn't be too involved."
   ]
  },
  {
   "cell_type": "code",
   "execution_count": null,
   "id": "5820300d-ca18-40d5-bc8d-0aee9f98ab71",
   "metadata": {},
   "outputs": [],
   "source": [
    "#TODO: Write time component extraction function based on FITS string representation"
   ]
  },
  {
   "cell_type": "markdown",
   "id": "e49b1743-324c-4228-a88c-0216a577c368",
   "metadata": {},
   "source": [
    "### Astropy: Time spans\n",
    "Astropy comes with a `TimeDelta` class that supports all common time span operations, such as add/subtract and new instance creation. The most common constructors are from seconds or from [`datetime.timedelta`](https://docs.python.org/3/library/datetime.html#timedelta-objects)."
   ]
  },
  {
   "cell_type": "code",
   "execution_count": 14,
   "id": "7c91931d-bb64-4180-9b96-27a3fd38dbf2",
   "metadata": {},
   "outputs": [
    {
     "name": "stdout",
     "output_type": "stream",
     "text": [
      "883887 days, 0:00:37\n",
      "1428 days, 21:33:09\n",
      "123456 days, 0:00:00\n",
      "760431 days, 0:00:37\n",
      "2358-01-05T01:23:45.000\n"
     ]
    },
    {
     "name": "stderr",
     "output_type": "stream",
     "text": [
      "/usr/local/anaconda3/lib/python3.8/site-packages/erfa/core.py:154: ErfaWarning: ERFA function \"utctai\" yielded 1 of \"dubious year (Note 3)\"\n",
      "  warnings.warn('ERFA function \"{}\" yielded {}'.format(func_name, wmsg),\n",
      "/usr/local/anaconda3/lib/python3.8/site-packages/erfa/core.py:154: ErfaWarning: ERFA function \"taiutc\" yielded 1 of \"dubious year (Note 4)\"\n",
      "  warnings.warn('ERFA function \"{}\" yielded {}'.format(func_name, wmsg),\n",
      "/usr/local/anaconda3/lib/python3.8/site-packages/erfa/core.py:154: ErfaWarning: ERFA function \"d2dtf\" yielded 1 of \"dubious year (Note 5)\"\n",
      "  warnings.warn('ERFA function \"{}\" yielded {}'.format(func_name, wmsg),\n"
     ]
    }
   ],
   "source": [
    "delta_astro = ad_date_astro - bc_date_astro\n",
    "print(delta_astro.datetime)\n",
    "\n",
    "new_delta_astro = TimeDelta(123456789, format='sec')\n",
    "print(new_delta_astro.datetime)\n",
    "\n",
    "new_delta_astro = TimeDelta(timedelta(days=123456), format='datetime')\n",
    "print(new_delta_astro.datetime)\n",
    "\n",
    "print((delta_astro - new_delta_astro).datetime)\n",
    "print(ad_date_astro + new_delta_astro)"
   ]
  },
  {
   "cell_type": "markdown",
   "id": "c8614c62-1bf7-4db0-b66f-ebd10b7a69c6",
   "metadata": {},
   "source": [
    "### Conclusion\n",
    "Astropy's time module offers a lot more functionality than we need which makes its objects clunky and its API quite complex. This is offset by having the option to keep an array of datetimes in the `Time` object itself, same as with `TimeDelta`, which lets us manipulate them as we would with `ndarrays`. The downside is that this wouldn't work well with libraries such as Pandas."
   ]
  },
  {
   "cell_type": "markdown",
   "id": "6a58e792-b79e-4410-aa78-b165be2e70cb",
   "metadata": {},
   "source": [
    "### [Skyfield](https://rhodesmill.org/skyfield/time.html)\n",
    "TODO: Overview"
   ]
  },
  {
   "cell_type": "markdown",
   "id": "fba90f8d-ea3b-45f3-8e33-f4f689a2da10",
   "metadata": {},
   "source": [
    "#### Skyfield: Creating times BC/AD\n"
   ]
  },
  {
   "cell_type": "code",
   "execution_count": null,
   "id": "18ef99b7-28aa-4e1c-93b6-79c3eef86e9d",
   "metadata": {},
   "outputs": [],
   "source": [
    "# TODO"
   ]
  },
  {
   "cell_type": "markdown",
   "id": "1edad395-f0f3-4138-9181-9e2d1d7d942f",
   "metadata": {},
   "source": [
    "#### Skyfield: Getters\n"
   ]
  },
  {
   "cell_type": "code",
   "execution_count": null,
   "id": "e2b4ccf8-d8d1-4a0e-b084-fff67ab641b4",
   "metadata": {},
   "outputs": [],
   "source": [
    "# TODO"
   ]
  },
  {
   "cell_type": "markdown",
   "id": "f70bcad9-c051-4aaf-af7c-7340defa40ec",
   "metadata": {},
   "source": [
    "#### Skyfield: Time spans\n"
   ]
  },
  {
   "cell_type": "code",
   "execution_count": null,
   "id": "ed8f0e20-3717-4b4f-bc05-b8dd3641ed43",
   "metadata": {},
   "outputs": [],
   "source": [
    "# TODO"
   ]
  },
  {
   "cell_type": "markdown",
   "id": "3edc73e2-41fe-4c29-9bc8-d91ee9f6f74b",
   "metadata": {},
   "source": [
    "#### Conclusion\n",
    "TODO"
   ]
  },
  {
   "cell_type": "markdown",
   "id": "6e2e6d2d-5ed7-48ca-b6f7-e61dd4522377",
   "metadata": {
    "tags": []
   },
   "source": [
    "### [SpiceyPy](https://github.com/AndrewAnnex/SpiceyPy)\n",
    "\n",
    "This is more of an honourable mention than anything else. SpiceyPy is a wrapper for the C-based [SPICE toolkit](https://naif.jpl.nasa.gov/pub/naif/toolkit_docs/C/info/intrdctn.html), and it shows in it's usability and documentation. For a taste, check out this [easy-to-follow tutorial](https://spiceypy.readthedocs.io/en/main/remote_sensing.html#overview) full of kernel installs and C-style code.\n",
    "\n",
    "It does come with time utilities, but I couldn't even figure out how to set them up, let alone use them, so maybe steer clear."
   ]
  },
  {
   "cell_type": "markdown",
   "id": "8c1a76ee-513b-4da5-8e72-c13409180217",
   "metadata": {},
   "source": [
    "## 3. Custom made date classes\n",
    "The best custom-made date class I've found is this `FlexiDate`-inspired one [here](https://github.com/okfn/datautil/blob/master/datautil/date.py).\n",
    "\n",
    "TODO: Overview"
   ]
  },
  {
   "cell_type": "markdown",
   "id": "f3914c5b-518a-4844-960b-6c441f5746c5",
   "metadata": {},
   "source": [
    "#### FlexiDate: Creating times BC/AD\n"
   ]
  },
  {
   "cell_type": "code",
   "execution_count": null,
   "id": "ba481fb2-6c6d-49d7-9913-08327b2cab7d",
   "metadata": {},
   "outputs": [],
   "source": [
    "# TODO"
   ]
  },
  {
   "cell_type": "markdown",
   "id": "3fc5673c-3bc3-4ec3-b975-998eaae2c93a",
   "metadata": {},
   "source": [
    "#### FlexiDate: Getters\n"
   ]
  },
  {
   "cell_type": "code",
   "execution_count": null,
   "id": "cab08574-45fe-4a9b-a494-e4dc9dbb38c7",
   "metadata": {},
   "outputs": [],
   "source": [
    "# TODO"
   ]
  },
  {
   "cell_type": "markdown",
   "id": "c57ed8d9-7dda-4620-9c35-dc15dc3c8a5e",
   "metadata": {},
   "source": [
    "#### FlexiDate: Time spans\n"
   ]
  },
  {
   "cell_type": "code",
   "execution_count": null,
   "id": "d80688bf-f992-4e48-aede-f0f32e704877",
   "metadata": {},
   "outputs": [],
   "source": [
    "# TODO"
   ]
  },
  {
   "cell_type": "markdown",
   "id": "86e39cfe-7d4f-4a44-af15-4122a8684f80",
   "metadata": {},
   "source": [
    "#### Conclusion\n",
    "TODO"
   ]
  }
 ],
 "metadata": {
  "kernelspec": {
   "display_name": "Python 3 (ipykernel)",
   "language": "python",
   "name": "python3"
  },
  "language_info": {
   "codemirror_mode": {
    "name": "ipython",
    "version": 3
   },
   "file_extension": ".py",
   "mimetype": "text/x-python",
   "name": "python",
   "nbconvert_exporter": "python",
   "pygments_lexer": "ipython3",
   "version": "3.8.5"
  }
 },
 "nbformat": 4,
 "nbformat_minor": 5
}
