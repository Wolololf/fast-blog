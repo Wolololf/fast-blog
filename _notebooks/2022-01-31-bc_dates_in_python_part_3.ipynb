{
 "cells": [
  {
   "cell_type": "markdown",
   "id": "4e6103d9-cb30-46c8-9491-fa04691aa449",
   "metadata": {},
   "source": [
    "# \"BC dates in Python - Part 3 - FlexiDate\"\n",
    "> \"An approach to expressing BC dates in Python using a version of FlexiDate\"\n",
    "\n",
    "- toc: false\n",
    "- branch: master\n",
    "- badges: false\n",
    "- comments: true\n",
    "- categories: [datascience, history, python, time, pandas]\n",
    "- image: images/placeholder.png\n",
    "- hide: true\n",
    "- search_exclude: true"
   ]
  },
  {
   "cell_type": "markdown",
   "id": "b263c187-c9e0-41e1-bd6d-7803e83c371e",
   "metadata": {},
   "source": [
    "## Recap: The problem\n",
    "Python's [datetime module](https://docs.python.org/3/library/datetime.html) has a [MINYEAR](https://docs.python.org/3/library/datetime.html#datetime.MINYEAR) of 1AD, so we can't express BC dates like that. We'll need a different solution.\n",
    "\n",
    "What are our requirements for a good solution? What functionality are we looking for?\n",
    "- Expressing BC as well as AD dates\n",
    "- Create from string and/or numeric parameters\n",
    "- Print time\n",
    "- Getters\n",
    "- Add/subtract time span and getting time deltas\n",
    "- Get time span delta\n",
    "- Lightweight objects\n",
    "- Useable in pandas?"
   ]
  },
  {
   "cell_type": "code",
   "execution_count": null,
   "id": "c307f118-d58b-44ca-9ed5-d0154e773619",
   "metadata": {},
   "outputs": [
    {
     "data": {
      "text/plain": [
       "<module 'modules.flexidate' from '/Users/wolf/Documents/Projects/fast-blog/_notebooks/modules/flexidate.py'>"
      ]
     },
     "execution_count": 67,
     "metadata": {},
     "output_type": "execute_result"
    }
   ],
   "source": [
    "#hide\n",
    "\n",
    "#Imports\n",
    "import importlib\n",
    "import modules.flexidate as fd\n",
    "importlib.reload(fd)"
   ]
  },
  {
   "cell_type": "markdown",
   "id": "8c1a76ee-513b-4da5-8e72-c13409180217",
   "metadata": {},
   "source": [
    "## 3. Custom made date classes\n",
    "The best custom-made date class I've found is this `FlexiDate`-inspired one [here](https://github.com/okfn/datautil/blob/master/datautil/date.py) (which was in turn inspired by [this](https://rufuspollock.com/2009/06/18/flexible-dates-in-python/). Someone else wrote some tests for it [here](https://github.com/datopian/flexidate/blob/master/flexidate/test_flexidate.py) that I found useful to work out what the intended usage was.\n",
    "\n",
    "It's a custom date format that supports BC dates as well as \"imprecise\" dates, e.g. you can specify dates as \"ca. 1905\" or \"BC 41?\" (to mean in the 410s BC). That sounds pretty exciting for historical research, especially since it still supports sorting.\n",
    "\n",
    "Now, right off the bat, there are a few issues:\n",
    "- FlexiDate was written in Python 2.x, so the code just doesn't work because Python itself has changed.\n",
    "    - `unicode` has been renamed to `str`\n",
    "    - By default, is parsed day-first which differs from Numpy/Pandas so I brought it in line to parse month-first\n",
    "    - `dateutil.parser.parser._parse` now returns a tuple instead of just the parsing result\n",
    "- `dateutil.parser` has a quirk where if the input is only a two-digit year, it assumes you must be talking about the second half of the 20th century or the first half of the 21st century. This isn't helpful when dealing with dates from 99BC to 99AD. I feel like I should just replace that parser with custom parsing.\n",
    "\n",
    "I'm expecting to find more issues as I keep digging. For now I've moved a copy of `FlexiDate` [here](https://github.com/Wolololf/fast-blog/tree/master/_notebooks/modules/flexidate.py) for me to work on solving some of the incompatibilities. It's a work-in-progress, I'll iron out some of the issues and address some of the TODOs and write another post when it's ready. I'm tempted to replace the fuzzy parser with regular datetime parsing and then add negative years and uncertainty back on.\n",
    "\n",
    "I also feel like I need to split `FlexiDate` into two classes: `FlexiDate` which supports negative time, and `FlexiDateRange` which builds on `FlexiDate` but supports ranges to express uncertainty. For time spans, I'm tempted to split it similarly, so `FlexiTimeSpan` just has the span as years, months and days, and a `FlexiTimeSpanRange` which supports a min/max range."
   ]
  },
  {
   "cell_type": "markdown",
   "id": "f3914c5b-518a-4844-960b-6c441f5746c5",
   "metadata": {},
   "source": [
    "#### FlexiDate: Creating times BC/AD\n"
   ]
  },
  {
   "cell_type": "code",
   "execution_count": 70,
   "id": "ba481fb2-6c6d-49d7-9913-08327b2cab7d",
   "metadata": {},
   "outputs": [
    {
     "name": "stdout",
     "output_type": "stream",
     "text": [
      "2020-01-02\n",
      "-0400-01-02\n",
      "-0123-05-06\n",
      "-2044\n",
      "-0144\n"
     ]
    }
   ],
   "source": [
    "#collapse-show\n",
    "\n",
    "# Example code for creating BC and AD times\n",
    "\n",
    "# Via parsing\n",
    "ad_date_fd = fd.parse(\"2020-01-02\")\n",
    "print(ad_date_fd)\n",
    "\n",
    "bc_date_fd = fd.parse(\"-0400-01-02\")\n",
    "print(bc_date_fd)\n",
    "\n",
    "# Constructor\n",
    "constructor_test = fd.FlexiDate(year=-123, month=5, day=6)\n",
    "print(constructor_test)\n",
    "\n",
    "bc_test = fd.parse(\"44 BC\")\n",
    "print(bc_test)\n",
    "\n",
    "bc_test = fd.parse(\"144 BC\")\n",
    "print(bc_test)"
   ]
  },
  {
   "cell_type": "markdown",
   "id": "3fc5673c-3bc3-4ec3-b975-998eaae2c93a",
   "metadata": {},
   "source": [
    "#### FlexiDate: Getters\n",
    "Getters are easy in `FlexiDate` since its internal representation has attributes for year, month and day. It doesn't support time of day, so there are no getters for that."
   ]
  },
  {
   "cell_type": "code",
   "execution_count": 71,
   "id": "cab08574-45fe-4a9b-a494-e4dc9dbb38c7",
   "metadata": {},
   "outputs": [
    {
     "name": "stdout",
     "output_type": "stream",
     "text": [
      "-0400\n",
      "01\n",
      "02\n"
     ]
    }
   ],
   "source": [
    "#collapse-show\n",
    "\n",
    "print(bc_date_fd.year)\n",
    "print(bc_date_fd.month)\n",
    "print(bc_date_fd.day)"
   ]
  },
  {
   "cell_type": "markdown",
   "id": "c57ed8d9-7dda-4620-9c35-dc15dc3c8a5e",
   "metadata": {},
   "source": [
    "#### FlexiDate: Time spans\n",
    "Another major downside to `FlexiDate` is that it doesn't support time spans. There is plenty of code on the internet showing how to do time span calculations, I'm sure they could be adjusted to work with `FlexiDate`. A bigger challenge is the uncertainty aspect: How would subtracting two uncertain dates work? How would you add/subtract uncertain time spans?\n",
    "\n",
    "I think subtraction of uncertain dates would need to yield a min-max range of time spans, e.g. `202?-199?` has a range of `[21, 39]`. Operating on two ranges would just operate on the min/max, e.g. `[21, 39] + [49, 61] = [70, 100]` and `[49, 61] - [21, 39] = [10, 40]`. Combining a `FlexiSpan` with a `FlexiDate` would return a `FlexiDate` if there was no uncertainty, or a tuple of `FlexiDates` for min/max results based on uncertainty in the date or time span.\n",
    "\n",
    "I think this could work, but this is just an outline, there's work to be done."
   ]
  },
  {
   "cell_type": "markdown",
   "id": "8ca48137-6a48-4581-9526-97d7fbdf6a44",
   "metadata": {},
   "source": [
    "#### FlexiDate and Pandas\n",
    "I propose that `FlexiDate` would interact with Pandas in a similar way as Numpy's `datetime64` and `timedelta64`: Custom parsing functions for `date` columns or multiple date component columns"
   ]
  },
  {
   "cell_type": "markdown",
   "id": "86e39cfe-7d4f-4a44-af15-4122a8684f80",
   "metadata": {},
   "source": [
    "#### Conclusion\n",
    "I love the idea of uncertainty in dates and time spans."
   ]
  }
 ],
 "metadata": {
  "kernelspec": {
   "display_name": "Python 3 (ipykernel)",
   "language": "python",
   "name": "python3"
  },
  "language_info": {
   "codemirror_mode": {
    "name": "ipython",
    "version": 3
   },
   "file_extension": ".py",
   "mimetype": "text/x-python",
   "name": "python",
   "nbconvert_exporter": "python",
   "pygments_lexer": "ipython3",
   "version": "3.8.5"
  }
 },
 "nbformat": 4,
 "nbformat_minor": 5
}
