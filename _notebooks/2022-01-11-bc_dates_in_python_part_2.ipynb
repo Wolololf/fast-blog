{
 "cells": [
  {
   "cell_type": "markdown",
   "id": "4e6103d9-cb30-46c8-9491-fa04691aa449",
   "metadata": {},
   "source": [
    "# \"BC dates in Python - Part 2 - Astronomy\"\n",
    "> \"Several approaches to expressing BC dates in Python using astronomy libraries\"\n",
    "\n",
    "- toc: false\n",
    "- branch: master\n",
    "- badges: false\n",
    "- comments: true\n",
    "- categories: [datascience, history, python, time]\n",
    "- image: images/placeholder.png\n",
    "- hide: true\n",
    "- search_exclude: true"
   ]
  },
  {
   "cell_type": "markdown",
   "id": "b263c187-c9e0-41e1-bd6d-7803e83c371e",
   "metadata": {},
   "source": [
    "## Recap: The problem\n",
    "Python's [datetime module](https://docs.python.org/3/library/datetime.html) has a [MINYEAR](https://docs.python.org/3/library/datetime.html#datetime.MINYEAR) of 1AD, so we can't express BC dates like that. We'll need a different solution.\n",
    "\n",
    "What are our requirements for a good solution? What functionality are we looking for?\n",
    "- Expressing BC as well as AD dates\n",
    "- Create from string and/or numeric parameters\n",
    "- Print time\n",
    "- Getters\n",
    "- Add/subtract time span and getting time deltas\n",
    "- Get time span delta\n",
    "- Lightweight objects\n",
    "- Useable in pandas?"
   ]
  },
  {
   "cell_type": "markdown",
   "id": "1d22ccdb-b117-4753-80c9-9c3858bc1223",
   "metadata": {},
   "source": [
    "## 2. Scientific libraries\n",
    "It looks like there aren't a whole lot of historians using Python, but who know who else uses BC dates? Astronomers! There appears to be quite a selection of scientific libraries that deal with dates outside the default Python date range.\n",
    "\n",
    "### [Astropy](https://www.astropy.org/)\n",
    "Astropy's [Time](https://docs.astropy.org/en/stable/api/astropy.time.Time.html) module does the job. It supports a wide variety of time scales, formats and precision that are handy in general, plus some highly astronomy specific functionality such as `earth_rotation_angle` and `light_travel_time`. The [documentation](https://docs.astropy.org/en/stable/time/) does a good job explaining how to create and work with `Time`.\n",
    "\n",
    "This is an incredibly powerful library, and the documentation rocks. The `Time` object supports common operations such as creating, modifying and printing dates and time spans.\n",
    "\n",
    "One downside is that it has a lot of functionality you likely won't need, so it looks intimidating and confusing at first glance. While it looks like this added functionality would also bloat the object, this isn't a problem in practice. In addition to taking a string as input, `Time` also takes an `ndarray` of strings, and can be interacted with like an array. This means that effectively, you only need to define your time format and such once for the `Time` object, and the individual times can then be accessed by index."
   ]
  },
  {
   "cell_type": "code",
   "execution_count": 1,
   "id": "b4f9742e-5cad-4dfd-818a-3e597034d4e0",
   "metadata": {},
   "outputs": [],
   "source": [
    "#collapse-hide\n",
    "\n",
    "#Imports\n",
    "from astropy.time import Time, TimeDelta"
   ]
  },
  {
   "cell_type": "markdown",
   "id": "0c96c63c-99a4-4193-b0d9-119e041dd720",
   "metadata": {},
   "source": [
    "#### Astropy: Creating times BC/AD\n",
    "One caveat is that we shouldn't use the standard [ISO/ISOT format](https://docs.astropy.org/en/stable/api/astropy.time.TimeISOT.html#astropy.time.TimeISOT), e.g. `2020-01-02T03:04:05`. The ISO format only works for AD dates! Instead, we should use the [FITS format](https://docs.astropy.org/en/stable/api/astropy.time.TimeFITS.html#astropy.time.TimeFITS), e.g. `-00400-01-02T03:04:05`. FITS is an extension to the ISO format that expands the year range to five digits, and supports BC dates. Be aware that for negative dates, you need to pad it out with leading zeroes, or you'll get a parsing exception!\n",
    "\n",
    "Another limitation is that despite using 5 digits, you can't actually represent dates before 4799 BC (so slightly before the start of the Julian calendar). For a discussion about why this is limitation exists, see [here](https://github.com/astropy/astropy/issues/9231)."
   ]
  },
  {
   "cell_type": "code",
   "execution_count": 2,
   "id": "420e0ea1-9f49-41db-945d-9ce21d8cec16",
   "metadata": {},
   "outputs": [
    {
     "name": "stdout",
     "output_type": "stream",
     "text": [
      "2020-01-01T01:23:45.000\n",
      "-00400-01-01T01:23:45.000\n",
      "['-00400-01-01T01:23:45.000' '+02020-01-01T01:23:45.000']\n",
      "-00400-01-01T01:23:45.000\n"
     ]
    },
    {
     "name": "stderr",
     "output_type": "stream",
     "text": [
      "/usr/local/anaconda3/lib/python3.8/site-packages/erfa/core.py:154: ErfaWarning: ERFA function \"dtf2d\" yielded 1 of \"dubious year (Note 6)\"\n",
      "  warnings.warn('ERFA function \"{}\" yielded {}'.format(func_name, wmsg),\n",
      "/usr/local/anaconda3/lib/python3.8/site-packages/erfa/core.py:154: ErfaWarning: ERFA function \"d2dtf\" yielded 1 of \"dubious year (Note 5)\"\n",
      "  warnings.warn('ERFA function \"{}\" yielded {}'.format(func_name, wmsg),\n"
     ]
    }
   ],
   "source": [
    "#collapse-show\n",
    "\n",
    "# Example code for creating BC and AD times\n",
    "ad_date_astro = Time(\"2020-01-01T01:23:45\", format='fits', scale='utc')\n",
    "print(ad_date_astro)\n",
    "\n",
    "bc_date_astro = Time(\"-00400-01-01T01:23:45\", format='fits', scale='utc')\n",
    "print(bc_date_astro)\n",
    "\n",
    "dates_astro = Time([\"-00400-01-01T01:23:45\", \"2020-01-01T01:23:45\"], format='fits', scale='utc')\n",
    "print(dates_astro)\n",
    "print(dates_astro[0])"
   ]
  },
  {
   "cell_type": "markdown",
   "id": "e147f6a0-356f-4b3a-9d3b-9976d5fb402d",
   "metadata": {},
   "source": [
    "The above warning seems to be benign and from well within Astropy, nothing to do for us here.\n",
    "\n",
    "Side note: You can get your time data in a different format by using `.isot`, `.unix`. Note that you can print time in formats that wouldn't support parsing it!"
   ]
  },
  {
   "cell_type": "code",
   "execution_count": 3,
   "id": "372d20dd-947d-4ecc-b92a-35dc60458694",
   "metadata": {},
   "outputs": [
    {
     "name": "stdout",
     "output_type": "stream",
     "text": [
      "1577841825.0\n",
      "-00400-01-01T01:23:45.000\n",
      "-400-01-01T01:23:45.000\n"
     ]
    }
   ],
   "source": [
    "#collapse-show\n",
    "\n",
    "print(ad_date_astro.unix)\n",
    "print(bc_date_astro.fits)\n",
    "print(bc_date_astro.isot)\n",
    "\n",
    "# This line would fail with a ValueError: \"Input values did not match the format class isot\"\n",
    "#bc_date_2 = Time(bc_date.isot, format='isot', scale='utc')"
   ]
  },
  {
   "cell_type": "markdown",
   "id": "48b408cb-68b6-4c9e-883a-c03eca1eace6",
   "metadata": {},
   "source": [
    "#### Astropy: Getters\n",
    "The `Time` class doesn't have an easy way to extract common attributes such as year, month or seconds. It does, however, support `strftime` and provides an implementation based on Python's [`time.strftime`](https://docs.python.org/3/library/time.html#time.strftime). This means we can define our own utility functions to extract the relevant components and parse them into integers for later use.\n",
    "\n",
    "Sadly, this doesn't work for BC dates since `strftime` internally assumes dates in the `ISO` format for some reason."
   ]
  },
  {
   "cell_type": "code",
   "execution_count": 5,
   "id": "d62bc40c-638d-48c5-95fd-30807e2814db",
   "metadata": {},
   "outputs": [
    {
     "data": {
      "text/plain": [
       "2020"
      ]
     },
     "execution_count": 5,
     "metadata": {},
     "output_type": "execute_result"
    }
   ],
   "source": [
    "#collapse-show\n",
    "\n",
    "#Getters\n",
    "def extract_year(t):\n",
    "    return int(t.strftime('%Y'))\n",
    "\n",
    "extract_year(ad_date_astro)\n",
    "\n",
    "# This errors with ValueError: year -400 is out of range\n",
    "#extract_year(bc_date_astro)"
   ]
  },
  {
   "cell_type": "markdown",
   "id": "c7b09008-879d-4f93-8966-f252d3136b1f",
   "metadata": {},
   "source": [
    "There is always the option of writing our own function to extract time components from the source string based on the FITS representation. We can cheat by detecting if the date is BC and then removing the leading `-`, only to add it back on to the year at the end.\n",
    "\n",
    "Another limitation is that `datetime.parse` assumes 4 digits for a year with zero-padding, but FITS comes with 5. This means we chop off the leading year digit. This is fine since apparently Astropy can't handle dates before 4799 BC."
   ]
  },
  {
   "cell_type": "code",
   "execution_count": 28,
   "id": "5820300d-ca18-40d5-bc8d-0aee9f98ab71",
   "metadata": {},
   "outputs": [],
   "source": [
    "#collapse-hide\n",
    "\n",
    "def get_time_component(time, comp):\n",
    "    \"\"\"\n",
    "    Extract a time component (year, month, day, hour, minute, seconds, microsecond) from Time.\n",
    "\n",
    "    Parameters\n",
    "    ----------\n",
    "    time : Time\n",
    "        Time to extract from\n",
    "    comp: string\n",
    "        time component to extract\n",
    "\n",
    "    Returns\n",
    "    -------\n",
    "    res : int32\n",
    "        extracted time component\n",
    "    \"\"\"\n",
    "    \n",
    "    from datetime import datetime\n",
    "        \n",
    "    fits_rep = time.fits\n",
    "    is_bc = False\n",
    "    if fits_rep.startswith('-'):\n",
    "        is_bc = True\n",
    "        fits_rep = fits_rep[1:]\n",
    "    \n",
    "    leading_year = None\n",
    "    if fits_rep.find('-') > 4:\n",
    "        leading_year = fits_rep[0]\n",
    "        fits_rep = fits_rep[1:]\n",
    "    \n",
    "    dt = datetime.strptime(fits_rep, '%Y-%m-%dT%H:%M:%S.%f')\n",
    "    if comp == 'y':\n",
    "        year = dt.year\n",
    "        if leading_year is not None:\n",
    "            year += int(leading_year) * 10000\n",
    "        if is_bc:\n",
    "            year *= -1\n",
    "        return year\n",
    "    elif comp == 'm':\n",
    "        return dt.month\n",
    "    elif comp == 'd':\n",
    "        return dt.day\n",
    "    elif comp == 'h':\n",
    "        return dt.hour\n",
    "    elif comp == 'min':\n",
    "        return dt.minute\n",
    "    elif comp == 's':\n",
    "        return dt.second\n",
    "    \n",
    "    return None"
   ]
  },
  {
   "cell_type": "code",
   "execution_count": 53,
   "id": "aaf3f7b2-7534-43ad-a9b4-15e698deb8b4",
   "metadata": {},
   "outputs": [
    {
     "name": "stdout",
     "output_type": "stream",
     "text": [
      "-00400-01-01T01:23:45.000\n",
      "-400\n",
      "2020-01-01T01:23:45.000\n",
      "1\n",
      "-4799\n"
     ]
    }
   ],
   "source": [
    "print(bc_date_astro.fits)\n",
    "print(get_time_component(bc_date_astro, 'y'))\n",
    "\n",
    "print(ad_date_astro.fits)\n",
    "print(get_time_component(ad_date_astro, 'd'))\n",
    "\n",
    "far_bc = Time(\"-04799-01-01T01:23:45\", format='fits', scale='utc')\n",
    "print(get_time_component(far_bc, 'y'))"
   ]
  },
  {
   "cell_type": "markdown",
   "id": "e49b1743-324c-4228-a88c-0216a577c368",
   "metadata": {},
   "source": [
    "### Astropy: Time spans\n",
    "Astropy comes with a `TimeDelta` class that supports all common time span operations, such as add/subtract and new instance creation. The most common constructors are from seconds or from [`datetime.timedelta`](https://docs.python.org/3/library/datetime.html#timedelta-objects)."
   ]
  },
  {
   "cell_type": "code",
   "execution_count": null,
   "id": "7c91931d-bb64-4180-9b96-27a3fd38dbf2",
   "metadata": {},
   "outputs": [],
   "source": [
    "#collapse-show\n",
    "\n",
    "delta_astro = ad_date_astro - bc_date_astro\n",
    "print(delta_astro.datetime)\n",
    "\n",
    "new_delta_astro = TimeDelta(123456789, format='sec')\n",
    "print(new_delta_astro.datetime)\n",
    "\n",
    "new_delta_astro = TimeDelta(timedelta(days=123456), format='datetime')\n",
    "print(new_delta_astro.datetime)\n",
    "\n",
    "print((delta_astro - new_delta_astro).datetime)\n",
    "print(ad_date_astro + new_delta_astro)"
   ]
  },
  {
   "cell_type": "markdown",
   "id": "c8614c62-1bf7-4db0-b66f-ebd10b7a69c6",
   "metadata": {},
   "source": [
    "### Conclusion\n",
    "Astropy's time module offers a lot more functionality than we need which makes its objects clunky and its API quite complex. This is offset by having the option to keep an array of datetimes in the `Time` object itself, same as with `TimeDelta`, which lets us manipulate them as we would with `ndarrays`. The downside is that this wouldn't work well with libraries such as Pandas."
   ]
  },
  {
   "cell_type": "markdown",
   "id": "6a58e792-b79e-4410-aa78-b165be2e70cb",
   "metadata": {},
   "source": [
    "### [Skyfield](https://rhodesmill.org/skyfield/time.html)\n",
    "TODO: Overview"
   ]
  },
  {
   "cell_type": "markdown",
   "id": "fba90f8d-ea3b-45f3-8e33-f4f689a2da10",
   "metadata": {},
   "source": [
    "#### Skyfield: Creating times BC/AD\n"
   ]
  },
  {
   "cell_type": "code",
   "execution_count": null,
   "id": "18ef99b7-28aa-4e1c-93b6-79c3eef86e9d",
   "metadata": {},
   "outputs": [],
   "source": [
    "#collapse-hide\n",
    "\n",
    "# TODO"
   ]
  },
  {
   "cell_type": "markdown",
   "id": "1edad395-f0f3-4138-9181-9e2d1d7d942f",
   "metadata": {},
   "source": [
    "#### Skyfield: Getters\n"
   ]
  },
  {
   "cell_type": "code",
   "execution_count": null,
   "id": "e2b4ccf8-d8d1-4a0e-b084-fff67ab641b4",
   "metadata": {},
   "outputs": [],
   "source": [
    "#collapse-hide\n",
    "\n",
    "# TODO"
   ]
  },
  {
   "cell_type": "markdown",
   "id": "f70bcad9-c051-4aaf-af7c-7340defa40ec",
   "metadata": {},
   "source": [
    "#### Skyfield: Time spans\n"
   ]
  },
  {
   "cell_type": "code",
   "execution_count": null,
   "id": "ed8f0e20-3717-4b4f-bc05-b8dd3641ed43",
   "metadata": {},
   "outputs": [],
   "source": [
    "#collapse-hide\n",
    "\n",
    "# TODO"
   ]
  },
  {
   "cell_type": "markdown",
   "id": "3edc73e2-41fe-4c29-9bc8-d91ee9f6f74b",
   "metadata": {},
   "source": [
    "#### Conclusion\n",
    "TODO"
   ]
  },
  {
   "cell_type": "markdown",
   "id": "6e2e6d2d-5ed7-48ca-b6f7-e61dd4522377",
   "metadata": {
    "tags": []
   },
   "source": [
    "### [SpiceyPy](https://github.com/AndrewAnnex/SpiceyPy)\n",
    "\n",
    "This is more of an honourable mention than anything else. SpiceyPy is a wrapper for the C-based [SPICE toolkit](https://naif.jpl.nasa.gov/pub/naif/toolkit_docs/C/info/intrdctn.html), and it shows in it's usability and documentation. For a taste, check out this [easy-to-follow tutorial](https://spiceypy.readthedocs.io/en/main/remote_sensing.html#overview) full of kernel installs and C-style code.\n",
    "\n",
    "It does come with time utilities, but I couldn't even figure out how to set them up, let alone use them, so maybe steer clear."
   ]
  }
 ],
 "metadata": {
  "kernelspec": {
   "display_name": "Python 3 (ipykernel)",
   "language": "python",
   "name": "python3"
  },
  "language_info": {
   "codemirror_mode": {
    "name": "ipython",
    "version": 3
   },
   "file_extension": ".py",
   "mimetype": "text/x-python",
   "name": "python",
   "nbconvert_exporter": "python",
   "pygments_lexer": "ipython3",
   "version": "3.8.5"
  }
 },
 "nbformat": 4,
 "nbformat_minor": 5
}
